{
 "cells": [
  {
   "cell_type": "markdown",
   "id": "ca2a99f7",
   "metadata": {},
   "source": [
    "# Sql uploading the file"
   ]
  },
  {
   "cell_type": "code",
   "execution_count": null,
   "id": "5ec2ef75",
   "metadata": {},
   "outputs": [],
   "source": [
    "import mysql.connector\n",
    "import pandas as pd\n",
    "\n",
    "connection=mysql.connector.connect(\n",
    "    host=\"localhost\",\n",
    "    user=\"root\",\n",
    "    password=\"0123456789\"\n",
    "\n",
    ")\n",
    "mycursor=connection.cursor()\n",
    "mycursor.execute(\"create database Guvi_proj2\")\n",
    "mycursor.execute(\"show databases\")\n",
    "\n",
    "for i in mycursor:\n",
    "    print(i)"
   ]
  },
  {
   "cell_type": "code",
   "execution_count": null,
   "id": "082ba4be",
   "metadata": {},
   "outputs": [],
   "source": [
    "top10=pd.read_csv(r\"C:\\Users\\Test\\Downloads\\Guvi project 2\\top10_volatile.csv\")"
   ]
  },
  {
   "cell_type": "code",
   "execution_count": null,
   "id": "cf114db4",
   "metadata": {},
   "outputs": [],
   "source": [
    "stocks=mysql.connector.connect(\n",
    "    host=\"localhost\",\n",
    "    user=\"root\",\n",
    "    password=\"0123456789\",\n",
    "    database=\"Guvi_proj2\"\n",
    ")"
   ]
  },
  {
   "cell_type": "code",
   "execution_count": 42,
   "id": "ed04fafd",
   "metadata": {},
   "outputs": [
    {
     "name": "stderr",
     "output_type": "stream",
     "text": [
      "C:\\Users\\Test\\AppData\\Local\\Temp\\ipykernel_11368\\178241346.py:7: FutureWarning: Series.__getitem__ treating keys as positions is deprecated. In a future version, integer keys will always be treated as labels (consistent with DataFrame behavior). To access a value by position, use `ser.iloc[pos]`\n",
      "  Ticker = rs[0]\n",
      "C:\\Users\\Test\\AppData\\Local\\Temp\\ipykernel_11368\\178241346.py:8: FutureWarning: Series.__getitem__ treating keys as positions is deprecated. In a future version, integer keys will always be treated as labels (consistent with DataFrame behavior). To access a value by position, use `ser.iloc[pos]`\n",
      "  Volatility = rs[1]\n"
     ]
    }
   ],
   "source": [
    "mycursor=stocks.cursor()\n",
    "\n",
    "mycursor.execute(\"create table top10_vol (Ticker varchar(50) primary key,Volatility float)\")\n",
    "\n",
    "stocks.commit()\n",
    "for _, rs in top10.iterrows():\n",
    "    Ticker = rs[0]\n",
    "    Volatility = rs[1]\n",
    "\n",
    "    if (pd.isna(Ticker) or pd.isna(Volatility) or str(Ticker).strip()==''):\n",
    "        continue\n",
    "\n",
    "    try:\n",
    "        query = \"INSERT INTO top10_vol (Ticker, Volatility) VALUES (%s, %s)\"\n",
    "        mycursor.execute(query, (Ticker, Volatility))\n",
    "    except mysql.connector.IntegrityError as e:\n",
    "        print(f\"Skipping duplicate or error for Ticker={Ticker}: {e}\")\n",
    "\n",
    "stocks.commit()\n"
   ]
  },
  {
   "cell_type": "code",
   "execution_count": 11,
   "id": "346abd58",
   "metadata": {},
   "outputs": [
    {
     "data": {
      "text/html": [
       "<div>\n",
       "<style scoped>\n",
       "    .dataframe tbody tr th:only-of-type {\n",
       "        vertical-align: middle;\n",
       "    }\n",
       "\n",
       "    .dataframe tbody tr th {\n",
       "        vertical-align: top;\n",
       "    }\n",
       "\n",
       "    .dataframe thead th {\n",
       "        text-align: right;\n",
       "    }\n",
       "</style>\n",
       "<table border=\"1\" class=\"dataframe\">\n",
       "  <thead>\n",
       "    <tr style=\"text-align: right;\">\n",
       "      <th></th>\n",
       "      <th>Ticker</th>\n",
       "      <th>Volatility</th>\n",
       "    </tr>\n",
       "  </thead>\n",
       "  <tbody>\n",
       "    <tr>\n",
       "      <th>0</th>\n",
       "      <td>ADANIGREEN</td>\n",
       "      <td>0.028550</td>\n",
       "    </tr>\n",
       "    <tr>\n",
       "      <th>1</th>\n",
       "      <td>ADANIPORTS</td>\n",
       "      <td>0.025983</td>\n",
       "    </tr>\n",
       "    <tr>\n",
       "      <th>2</th>\n",
       "      <td>BEL</td>\n",
       "      <td>0.023243</td>\n",
       "    </tr>\n",
       "    <tr>\n",
       "      <th>3</th>\n",
       "      <td>TRENT</td>\n",
       "      <td>0.023034</td>\n",
       "    </tr>\n",
       "    <tr>\n",
       "      <th>4</th>\n",
       "      <td>ONGC</td>\n",
       "      <td>0.022208</td>\n",
       "    </tr>\n",
       "  </tbody>\n",
       "</table>\n",
       "</div>"
      ],
      "text/plain": [
       "       Ticker  Volatility\n",
       "0  ADANIGREEN    0.028550\n",
       "1  ADANIPORTS    0.025983\n",
       "2         BEL    0.023243\n",
       "3       TRENT    0.023034\n",
       "4        ONGC    0.022208"
      ]
     },
     "execution_count": 11,
     "metadata": {},
     "output_type": "execute_result"
    }
   ],
   "source": [
    "top10.head()"
   ]
  },
  {
   "cell_type": "code",
   "execution_count": 26,
   "id": "dbda9af6",
   "metadata": {},
   "outputs": [],
   "source": [
    "cum_ret_df=pd.read_csv(r\"C:\\Users\\Test\\Downloads\\Guvi project 2\\cumul_return.csv\")"
   ]
  },
  {
   "cell_type": "code",
   "execution_count": 28,
   "id": "72d233d8",
   "metadata": {},
   "outputs": [
    {
     "data": {
      "text/html": [
       "<div>\n",
       "<style scoped>\n",
       "    .dataframe tbody tr th:only-of-type {\n",
       "        vertical-align: middle;\n",
       "    }\n",
       "\n",
       "    .dataframe tbody tr th {\n",
       "        vertical-align: top;\n",
       "    }\n",
       "\n",
       "    .dataframe thead th {\n",
       "        text-align: right;\n",
       "    }\n",
       "</style>\n",
       "<table border=\"1\" class=\"dataframe\">\n",
       "  <thead>\n",
       "    <tr style=\"text-align: right;\">\n",
       "      <th></th>\n",
       "      <th>Ticker</th>\n",
       "      <th>CumulativeReturn</th>\n",
       "    </tr>\n",
       "  </thead>\n",
       "  <tbody>\n",
       "    <tr>\n",
       "      <th>0</th>\n",
       "      <td>TRENT</td>\n",
       "      <td>2.230926</td>\n",
       "    </tr>\n",
       "    <tr>\n",
       "      <th>1</th>\n",
       "      <td>BEL</td>\n",
       "      <td>1.017601</td>\n",
       "    </tr>\n",
       "    <tr>\n",
       "      <th>2</th>\n",
       "      <td>M_M</td>\n",
       "      <td>0.959770</td>\n",
       "    </tr>\n",
       "    <tr>\n",
       "      <th>3</th>\n",
       "      <td>BAJAJ-AUTO</td>\n",
       "      <td>0.890112</td>\n",
       "    </tr>\n",
       "    <tr>\n",
       "      <th>4</th>\n",
       "      <td>AIRTEL</td>\n",
       "      <td>0.695990</td>\n",
       "    </tr>\n",
       "  </tbody>\n",
       "</table>\n",
       "</div>"
      ],
      "text/plain": [
       "       Ticker  CumulativeReturn\n",
       "0       TRENT          2.230926\n",
       "1         BEL          1.017601\n",
       "2         M_M          0.959770\n",
       "3  BAJAJ-AUTO          0.890112\n",
       "4      AIRTEL          0.695990"
      ]
     },
     "execution_count": 28,
     "metadata": {},
     "output_type": "execute_result"
    }
   ],
   "source": [
    "cum_ret_df.head()"
   ]
  },
  {
   "cell_type": "code",
   "execution_count": 41,
   "id": "6f79748c",
   "metadata": {},
   "outputs": [
    {
     "name": "stderr",
     "output_type": "stream",
     "text": [
      "C:\\Users\\Test\\AppData\\Local\\Temp\\ipykernel_11368\\3752378047.py:5: FutureWarning: Series.__getitem__ treating keys as positions is deprecated. In a future version, integer keys will always be treated as labels (consistent with DataFrame behavior). To access a value by position, use `ser.iloc[pos]`\n",
      "  Ticker = rs[0]\n",
      "C:\\Users\\Test\\AppData\\Local\\Temp\\ipykernel_11368\\3752378047.py:6: FutureWarning: Series.__getitem__ treating keys as positions is deprecated. In a future version, integer keys will always be treated as labels (consistent with DataFrame behavior). To access a value by position, use `ser.iloc[pos]`\n",
      "  cum_ret = rs[1]\n"
     ]
    }
   ],
   "source": [
    "mycursor.execute(\"create table cum_return (Ticker varchar(50) primary key,Cumulative_return float)\")\n",
    "\n",
    "stocks.commit()\n",
    "for _, rs in top10.iterrows():\n",
    "    Ticker = rs[0]\n",
    "    cum_ret = rs[1]\n",
    "\n",
    "    if (pd.isna(Ticker) or pd.isna(cum_ret) or str(Ticker).strip()==''):\n",
    "        continue\n",
    "\n",
    "    try:\n",
    "        query = \"INSERT INTO cum_return (Ticker, Cumulative_return) VALUES (%s, %s)\"\n",
    "        mycursor.execute(query, (Ticker, cum_ret))\n",
    "    except mysql.connector.IntegrityError as e:\n",
    "        print(f\"Skipping duplicate or error for Ticker={Ticker}: {e}\")\n",
    "\n",
    "stocks.commit()"
   ]
  },
  {
   "cell_type": "code",
   "execution_count": 34,
   "id": "3bda227b",
   "metadata": {},
   "outputs": [],
   "source": [
    "sect_perf=pd.read_csv(r\"C:\\Users\\Test\\Downloads\\Guvi project 2\\sector_wise.csv\")"
   ]
  },
  {
   "cell_type": "code",
   "execution_count": 36,
   "id": "1cec6539",
   "metadata": {},
   "outputs": [
    {
     "data": {
      "text/html": [
       "<div>\n",
       "<style scoped>\n",
       "    .dataframe tbody tr th:only-of-type {\n",
       "        vertical-align: middle;\n",
       "    }\n",
       "\n",
       "    .dataframe tbody tr th {\n",
       "        vertical-align: top;\n",
       "    }\n",
       "\n",
       "    .dataframe thead th {\n",
       "        text-align: right;\n",
       "    }\n",
       "</style>\n",
       "<table border=\"1\" class=\"dataframe\">\n",
       "  <thead>\n",
       "    <tr style=\"text-align: right;\">\n",
       "      <th></th>\n",
       "      <th>sector</th>\n",
       "      <th>Yearly Return</th>\n",
       "    </tr>\n",
       "  </thead>\n",
       "  <tbody>\n",
       "    <tr>\n",
       "      <th>0</th>\n",
       "      <td>RETAILING</td>\n",
       "      <td>1.133054</td>\n",
       "    </tr>\n",
       "    <tr>\n",
       "      <th>1</th>\n",
       "      <td>DEFENCE</td>\n",
       "      <td>1.017601</td>\n",
       "    </tr>\n",
       "  </tbody>\n",
       "</table>\n",
       "</div>"
      ],
      "text/plain": [
       "      sector  Yearly Return\n",
       "0  RETAILING       1.133054\n",
       "1    DEFENCE       1.017601"
      ]
     },
     "execution_count": 36,
     "metadata": {},
     "output_type": "execute_result"
    }
   ],
   "source": [
    "sect_perf.head(2)"
   ]
  },
  {
   "cell_type": "code",
   "execution_count": 40,
   "id": "19850cb6",
   "metadata": {},
   "outputs": [
    {
     "name": "stderr",
     "output_type": "stream",
     "text": [
      "C:\\Users\\Test\\AppData\\Local\\Temp\\ipykernel_11368\\2997331480.py:5: FutureWarning: Series.__getitem__ treating keys as positions is deprecated. In a future version, integer keys will always be treated as labels (consistent with DataFrame behavior). To access a value by position, use `ser.iloc[pos]`\n",
      "  Sector = rs[0]\n",
      "C:\\Users\\Test\\AppData\\Local\\Temp\\ipykernel_11368\\2997331480.py:6: FutureWarning: Series.__getitem__ treating keys as positions is deprecated. In a future version, integer keys will always be treated as labels (consistent with DataFrame behavior). To access a value by position, use `ser.iloc[pos]`\n",
      "  year_ret = rs[1]\n"
     ]
    }
   ],
   "source": [
    "mycursor.execute(\"create table sector_perf (Sector varchar(50) primary key,Yearly_return float)\")\n",
    "\n",
    "stocks.commit()\n",
    "for _, rs in top10.iterrows():\n",
    "    Sector = rs[0]\n",
    "    year_ret = rs[1]\n",
    "\n",
    "    if (pd.isna(Sector) or pd.isna(year_ret) or str(Sector).strip()==''):\n",
    "        continue\n",
    "\n",
    "    try:\n",
    "        query = \"INSERT INTO sector_perf (Sector, Yearly_return) VALUES (%s, %s)\"\n",
    "        mycursor.execute(query, (Sector, year_ret))\n",
    "    except mysql.connector.IntegrityError as e:\n",
    "        print(f\"Skipping duplicate or error for Sector={Sector}: {e}\")\n",
    "\n",
    "stocks.commit()"
   ]
  },
  {
   "cell_type": "code",
   "execution_count": null,
   "id": "c38419d5",
   "metadata": {},
   "outputs": [],
   "source": [
    "top_gainers=pd.read_csv(r\"C:\\Users\\Test\\Downloads\\Guvi project 2\\top_gainers.csv\")"
   ]
  },
  {
   "cell_type": "code",
   "execution_count": 48,
   "id": "de324d7e",
   "metadata": {},
   "outputs": [
    {
     "data": {
      "text/html": [
       "<div>\n",
       "<style scoped>\n",
       "    .dataframe tbody tr th:only-of-type {\n",
       "        vertical-align: middle;\n",
       "    }\n",
       "\n",
       "    .dataframe tbody tr th {\n",
       "        vertical-align: top;\n",
       "    }\n",
       "\n",
       "    .dataframe thead th {\n",
       "        text-align: right;\n",
       "    }\n",
       "</style>\n",
       "<table border=\"1\" class=\"dataframe\">\n",
       "  <thead>\n",
       "    <tr style=\"text-align: right;\">\n",
       "      <th></th>\n",
       "      <th>Ticker</th>\n",
       "      <th>Yearly Return</th>\n",
       "    </tr>\n",
       "  </thead>\n",
       "  <tbody>\n",
       "    <tr>\n",
       "      <th>0</th>\n",
       "      <td>TRENT</td>\n",
       "      <td>2.230926</td>\n",
       "    </tr>\n",
       "    <tr>\n",
       "      <th>1</th>\n",
       "      <td>BEL</td>\n",
       "      <td>1.017601</td>\n",
       "    </tr>\n",
       "  </tbody>\n",
       "</table>\n",
       "</div>"
      ],
      "text/plain": [
       "  Ticker  Yearly Return\n",
       "0  TRENT       2.230926\n",
       "1    BEL       1.017601"
      ]
     },
     "execution_count": 48,
     "metadata": {},
     "output_type": "execute_result"
    }
   ],
   "source": [
    "top_gainers.head(2)"
   ]
  },
  {
   "cell_type": "code",
   "execution_count": 49,
   "id": "6e199308",
   "metadata": {},
   "outputs": [
    {
     "name": "stderr",
     "output_type": "stream",
     "text": [
      "C:\\Users\\Test\\AppData\\Local\\Temp\\ipykernel_11368\\1043117901.py:5: FutureWarning: Series.__getitem__ treating keys as positions is deprecated. In a future version, integer keys will always be treated as labels (consistent with DataFrame behavior). To access a value by position, use `ser.iloc[pos]`\n",
      "  Ticker = rs[0]\n",
      "C:\\Users\\Test\\AppData\\Local\\Temp\\ipykernel_11368\\1043117901.py:6: FutureWarning: Series.__getitem__ treating keys as positions is deprecated. In a future version, integer keys will always be treated as labels (consistent with DataFrame behavior). To access a value by position, use `ser.iloc[pos]`\n",
      "  year_ret = rs[1]\n"
     ]
    }
   ],
   "source": [
    "mycursor.execute(\"create table top_10_gainer (Ticker varchar(50) primary key,Yearly_return float)\")\n",
    "\n",
    "stocks.commit()\n",
    "for _, rs in top10.iterrows():\n",
    "    Ticker = rs[0]\n",
    "    year_ret = rs[1]\n",
    "\n",
    "    if (pd.isna(Ticker) or pd.isna(year_ret) or str(Ticker).strip()==''):\n",
    "        continue\n",
    "\n",
    "    try:\n",
    "        query = \"INSERT INTO top_10_gainer (Ticker, Yearly_return) VALUES (%s, %s)\"\n",
    "        mycursor.execute(query, (Ticker, year_ret))\n",
    "    except mysql.connector.IntegrityError as e:\n",
    "        print(f\"Skipping duplicate or error for Sector={Ticker}: {e}\")\n",
    "\n",
    "stocks.commit()"
   ]
  },
  {
   "cell_type": "code",
   "execution_count": 50,
   "id": "9448617b",
   "metadata": {},
   "outputs": [
    {
     "name": "stderr",
     "output_type": "stream",
     "text": [
      "C:\\Users\\Test\\AppData\\Local\\Temp\\ipykernel_11368\\90951615.py:5: FutureWarning: Series.__getitem__ treating keys as positions is deprecated. In a future version, integer keys will always be treated as labels (consistent with DataFrame behavior). To access a value by position, use `ser.iloc[pos]`\n",
      "  Ticker = rs[0]\n",
      "C:\\Users\\Test\\AppData\\Local\\Temp\\ipykernel_11368\\90951615.py:6: FutureWarning: Series.__getitem__ treating keys as positions is deprecated. In a future version, integer keys will always be treated as labels (consistent with DataFrame behavior). To access a value by position, use `ser.iloc[pos]`\n",
      "  year_ret = rs[1]\n"
     ]
    }
   ],
   "source": [
    "mycursor.execute(\"create table top_10_loser (Ticker varchar(50) primary key,Yearly_return float)\")\n",
    "\n",
    "stocks.commit()\n",
    "for _, rs in top10.iterrows():\n",
    "    Ticker = rs[0]\n",
    "    year_ret = rs[1]\n",
    "\n",
    "    if (pd.isna(Ticker) or pd.isna(year_ret) or str(Ticker).strip()==''):\n",
    "        continue\n",
    "\n",
    "    try:\n",
    "        query = \"INSERT INTO top_10_loser (Ticker, Yearly_return) VALUES (%s, %s)\"\n",
    "        mycursor.execute(query, (Ticker, year_ret))\n",
    "    except mysql.connector.IntegrityError as e:\n",
    "        print(f\"Skipping duplicate or error for Sector={Ticker}: {e}\")\n",
    "\n",
    "stocks.commit()"
   ]
  },
  {
   "cell_type": "code",
   "execution_count": null,
   "id": "66f831af",
   "metadata": {},
   "outputs": [],
   "source": []
  }
 ],
 "metadata": {
  "kernelspec": {
   "display_name": "Python 3",
   "language": "python",
   "name": "python3"
  },
  "language_info": {
   "codemirror_mode": {
    "name": "ipython",
    "version": 3
   },
   "file_extension": ".py",
   "mimetype": "text/x-python",
   "name": "python",
   "nbconvert_exporter": "python",
   "pygments_lexer": "ipython3",
   "version": "3.13.5"
  }
 },
 "nbformat": 4,
 "nbformat_minor": 5
}
